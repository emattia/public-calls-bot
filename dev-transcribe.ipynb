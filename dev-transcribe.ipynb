{
 "cells": [
  {
   "cell_type": "markdown",
   "metadata": {},
   "source": [
    "## Dependnecies"
   ]
  },
  {
   "cell_type": "markdown",
   "metadata": {},
   "source": [
    "### Mac\n",
    "\n",
    "#### Install homebrew if you don't have it\n",
    "\n",
    "#### Get ffmpeg"
   ]
  },
  {
   "cell_type": "code",
   "execution_count": null,
   "metadata": {},
   "outputs": [],
   "source": [
    "# ! brew install ffmpeg"
   ]
  },
  {
   "cell_type": "markdown",
   "metadata": {},
   "source": [
    "#### Get Youtube-dlp\n",
    "https://github.com/yt-dlp/yt-dlp/wiki/Installation"
   ]
  },
  {
   "cell_type": "code",
   "execution_count": null,
   "metadata": {},
   "outputs": [],
   "source": [
    "# ! curl -L https://github.com/yt-dlp/yt-dlp/releases/latest/download/yt-dlp -o ~/.local/bin/yt-dlp\n",
    "# ! chmod a+rx ~/.local/bin/yt-dlp  # Make executable"
   ]
  },
  {
   "cell_type": "markdown",
   "metadata": {},
   "source": [
    "#### Whisper.cpp\n",
    "\n",
    "https://github.com/ggerganov/whisper.cpp?tab=readme-ov-file#core-ml-support"
   ]
  },
  {
   "cell_type": "code",
   "execution_count": null,
   "metadata": {},
   "outputs": [],
   "source": [
    "# ! git clone https://github.com/ggerganov/whisper.cpp.git\n",
    "# ! pip install ane_transformers\n",
    "# ! pip install openai-whisper\n",
    "# ! pip install coremltools"
   ]
  },
  {
   "cell_type": "markdown",
   "metadata": {},
   "source": [
    "## Imports\n",
    "\n",
    "Fill out the environment variables in `.env-example` and change the file name to `.env`:\n",
    "```bash\n",
    "mv .env-example .env\n",
    "```"
   ]
  },
  {
   "cell_type": "code",
   "execution_count": 1,
   "metadata": {},
   "outputs": [
    {
     "data": {
      "text/plain": [
       "True"
      ]
     },
     "execution_count": 1,
     "metadata": {},
     "output_type": "execute_result"
    }
   ],
   "source": [
    "import os\n",
    "import ast\n",
    "import subprocess\n",
    "import shutil\n",
    "import tempfile\n",
    "import re\n",
    "import json\n",
    "import requests\n",
    "\n",
    "### 3rd party\n",
    "# ! pip install -r requirements.txt -qqq\n",
    "from bs4 import BeautifulSoup \n",
    "from slack_sdk import WebClient\n",
    "import pandas as pd\n",
    "from IPython.core.display import HTML\n",
    "from dotenv import load_dotenv\n",
    "load_dotenv()"
   ]
  },
  {
   "cell_type": "markdown",
   "metadata": {},
   "source": [
    "## Data"
   ]
  },
  {
   "cell_type": "code",
   "execution_count": 2,
   "metadata": {},
   "outputs": [],
   "source": [
    "DATA_ROOT = os.path.join(os.getcwd(), 'data')"
   ]
  },
  {
   "cell_type": "markdown",
   "metadata": {},
   "source": [
    "## Slack auth"
   ]
  },
  {
   "cell_type": "code",
   "execution_count": 3,
   "metadata": {},
   "outputs": [],
   "source": [
    "slack_token = os.environ.get(\"SLACK_USER_OAUTH_TOKEN\")\n",
    "client = WebClient(token=slack_token)"
   ]
  },
  {
   "cell_type": "markdown",
   "metadata": {},
   "source": [
    "## Sample query"
   ]
  },
  {
   "cell_type": "code",
   "execution_count": 4,
   "metadata": {},
   "outputs": [
    {
     "name": "stdout",
     "output_type": "stream",
     "text": [
      "making-nft-collections-based-on-novel-binning\n",
      "C02ERCRHNUX\n",
      "---\n",
      "coding\n",
      "C02ERCUMZFZ\n",
      "---\n",
      "papers\n",
      "C02ES9Q120P\n",
      "---\n",
      "general\n",
      "C02EZBMJ2BY\n",
      "---\n",
      "market-chatter\n",
      "C02F0KUPS5U\n",
      "---\n",
      "challenges\n",
      "C02F67D8RK5\n",
      "---\n",
      "random\n",
      "C02FCAL01T6\n",
      "---\n",
      "machine-learning\n",
      "C02P824JWDV\n",
      "---\n",
      "data\n",
      "C02PZ3YSML7\n",
      "---\n",
      "alignment\n",
      "C04081BDY8K\n",
      "---\n",
      "alignment-applications\n",
      "C04GNUDFXHT\n",
      "---\n",
      "ai-images\n",
      "C04MG56HLDU\n",
      "---\n",
      "as-project-planning\n",
      "C04TX6J0QAE\n",
      "---\n",
      "as-user-facing\n",
      "C051JTPP51R\n",
      "---\n",
      "qpl\n",
      "C0588QJUZS9\n",
      "---\n",
      "public-calls-for-alignment\n",
      "C05EVHWKKC6\n",
      "---\n",
      "2024-research-foundation\n",
      "C069EBAQCB0\n",
      "---\n"
     ]
    }
   ],
   "source": [
    "for channel in client.conversations_list()[\"channels\"]:\n",
    "    print(channel[\"name\"])\n",
    "    print(channel[\"id\"])\n",
    "    print('---')"
   ]
  },
  {
   "cell_type": "markdown",
   "metadata": {},
   "source": [
    "## Extracting messages in a Slack channel"
   ]
  },
  {
   "cell_type": "code",
   "execution_count": 5,
   "metadata": {},
   "outputs": [],
   "source": [
    "CHANNEL_ID = \"C05EVHWKKC6\"\n",
    "PAGE_SIZE = 100\n",
    "SLACK_MESSAGE_DF = 'public_calls_raw.csv'"
   ]
  },
  {
   "cell_type": "code",
   "execution_count": 6,
   "metadata": {},
   "outputs": [],
   "source": [
    "conversastion_info_res = client.conversations_info(channel=CHANNEL_ID)\n",
    "conversastion_info = conversastion_info_res.data\n",
    "conversation_created_at = conversastion_info[\"channel\"][\"created\"]"
   ]
  },
  {
   "cell_type": "code",
   "execution_count": 7,
   "metadata": {},
   "outputs": [],
   "source": [
    "history_res = client.conversations_history(channel=CHANNEL_ID, limit=PAGE_SIZE)"
   ]
  },
  {
   "cell_type": "code",
   "execution_count": 8,
   "metadata": {},
   "outputs": [],
   "source": [
    "message_history = history_res.data['messages']"
   ]
  },
  {
   "cell_type": "code",
   "execution_count": 9,
   "metadata": {},
   "outputs": [],
   "source": [
    "data = {\n",
    "    'user': [],\n",
    "    'type': [],\n",
    "    'ts': [],\n",
    "    'client_msg_id': [],\n",
    "    'text': [],\n",
    "    'team': [],\n",
    "    'attachments': [],\n",
    "    'blocks': []\n",
    "}\n",
    "\n",
    "for m in message_history:\n",
    "    if 'subtype' in m:\n",
    "        continue\n",
    "    data['user'].append(m['user'])\n",
    "    data['type'].append(m['type'])\n",
    "    data['ts'].append(m['ts'])\n",
    "    try:\n",
    "        data['client_msg_id'].append(m['client_msg_id'])\n",
    "    except:\n",
    "        data['client_msg_id'].append(None)\n",
    "    data['text'].append(m['text'])\n",
    "    data['team'].append(m['team'])\n",
    "    try:\n",
    "        data['attachments'].append(m['attachments'])\n",
    "    except:\n",
    "        data['attachments'].append(None)\n",
    "    data['blocks'].append(m['blocks'])\n",
    "\n",
    "df = pd.DataFrame(data)\n",
    "\n",
    "\n",
    "df.to_csv(SLACK_MESSAGE_DF, index=False)"
   ]
  },
  {
   "cell_type": "code",
   "execution_count": 10,
   "metadata": {},
   "outputs": [],
   "source": [
    "def parse_ast_cols(row):\n",
    "    if pd.isna(row):\n",
    "        return None\n",
    "    return ast.literal_eval(row)\n",
    "\n",
    "def find_url(row):\n",
    "    if pd.isna(row):\n",
    "        return None\n",
    "    return row[0]['original_url'] # NOTE: assumes only 1 attachment\n",
    "\n",
    "def find_platform(row):\n",
    "    if pd.isna(row):\n",
    "        return None\n",
    "    if 'youtube' in row or 'youtu.be' in row:\n",
    "        return 'youtube'\n",
    "    if 'podcasts.apple' in row:\n",
    "        return 'apple podcast'\n",
    "    if 'apple.news' in row:\n",
    "        return 'apple news'"
   ]
  },
  {
   "cell_type": "code",
   "execution_count": 11,
   "metadata": {},
   "outputs": [],
   "source": [
    "df = pd.read_csv(SLACK_MESSAGE_DF)\n",
    "df.attachments = df.attachments.apply(parse_ast_cols)\n",
    "df.blocks = df.blocks.apply(parse_ast_cols)\n",
    "df['url'] = df.attachments.apply(find_url) \n",
    "df['platform'] = df.url.apply(find_platform)"
   ]
  },
  {
   "cell_type": "code",
   "execution_count": 12,
   "metadata": {},
   "outputs": [
    {
     "data": {
      "text/html": [
       "<div>\n",
       "<style scoped>\n",
       "    .dataframe tbody tr th:only-of-type {\n",
       "        vertical-align: middle;\n",
       "    }\n",
       "\n",
       "    .dataframe tbody tr th {\n",
       "        vertical-align: top;\n",
       "    }\n",
       "\n",
       "    .dataframe thead th {\n",
       "        text-align: right;\n",
       "    }\n",
       "</style>\n",
       "<table border=\"1\" class=\"dataframe\">\n",
       "  <thead>\n",
       "    <tr style=\"text-align: right;\">\n",
       "      <th></th>\n",
       "      <th>user</th>\n",
       "      <th>type</th>\n",
       "      <th>ts</th>\n",
       "      <th>client_msg_id</th>\n",
       "      <th>text</th>\n",
       "      <th>team</th>\n",
       "      <th>attachments</th>\n",
       "      <th>blocks</th>\n",
       "      <th>url</th>\n",
       "      <th>platform</th>\n",
       "    </tr>\n",
       "  </thead>\n",
       "  <tbody>\n",
       "    <tr>\n",
       "      <th>0</th>\n",
       "      <td>U02F33WP5FX</td>\n",
       "      <td>message</td>\n",
       "      <td>1.716043e+09</td>\n",
       "      <td>CC964B6A-76C4-42CF-B796-460D256963FC</td>\n",
       "      <td>&lt;https://youtu.be/lrebGkYy7pE?si=0lbIkizxWO8Me...</td>\n",
       "      <td>T02FVNL7X6U</td>\n",
       "      <td>[{'from_url': 'https://youtu.be/lrebGkYy7pE?si...</td>\n",
       "      <td>[{'type': 'rich_text', 'block_id': 'Hy5ZJ', 'e...</td>\n",
       "      <td>https://youtu.be/lrebGkYy7pE?si=0lbIkizxWO8MefXk</td>\n",
       "      <td>youtube</td>\n",
       "    </tr>\n",
       "    <tr>\n",
       "      <th>1</th>\n",
       "      <td>U02F33WP5FX</td>\n",
       "      <td>message</td>\n",
       "      <td>1.714913e+09</td>\n",
       "      <td>FCDF3A69-0A12-4B14-B4E8-364BE71BF14C</td>\n",
       "      <td>&lt;https://podcasts.apple.com/us/podcast/theorie...</td>\n",
       "      <td>T02FVNL7X6U</td>\n",
       "      <td>[{'image_url': 'https://is1-ssl.mzstatic.com/i...</td>\n",
       "      <td>[{'type': 'rich_text', 'block_id': '8jcbA', 'e...</td>\n",
       "      <td>https://podcasts.apple.com/us/podcast/theories...</td>\n",
       "      <td>apple podcast</td>\n",
       "    </tr>\n",
       "  </tbody>\n",
       "</table>\n",
       "</div>"
      ],
      "text/plain": [
       "          user     type            ts                         client_msg_id  \\\n",
       "0  U02F33WP5FX  message  1.716043e+09  CC964B6A-76C4-42CF-B796-460D256963FC   \n",
       "1  U02F33WP5FX  message  1.714913e+09  FCDF3A69-0A12-4B14-B4E8-364BE71BF14C   \n",
       "\n",
       "                                                text         team  \\\n",
       "0  <https://youtu.be/lrebGkYy7pE?si=0lbIkizxWO8Me...  T02FVNL7X6U   \n",
       "1  <https://podcasts.apple.com/us/podcast/theorie...  T02FVNL7X6U   \n",
       "\n",
       "                                         attachments  \\\n",
       "0  [{'from_url': 'https://youtu.be/lrebGkYy7pE?si...   \n",
       "1  [{'image_url': 'https://is1-ssl.mzstatic.com/i...   \n",
       "\n",
       "                                              blocks  \\\n",
       "0  [{'type': 'rich_text', 'block_id': 'Hy5ZJ', 'e...   \n",
       "1  [{'type': 'rich_text', 'block_id': '8jcbA', 'e...   \n",
       "\n",
       "                                                 url       platform  \n",
       "0   https://youtu.be/lrebGkYy7pE?si=0lbIkizxWO8MefXk        youtube  \n",
       "1  https://podcasts.apple.com/us/podcast/theories...  apple podcast  "
      ]
     },
     "execution_count": 12,
     "metadata": {},
     "output_type": "execute_result"
    }
   ],
   "source": [
    "df.head(2)"
   ]
  },
  {
   "cell_type": "markdown",
   "metadata": {},
   "source": [
    "## Extracting audio from podcasts and YouTube"
   ]
  },
  {
   "cell_type": "code",
   "execution_count": 34,
   "metadata": {},
   "outputs": [],
   "source": [
    "AUDIO_OUTPUT = os.path.join(os.getcwd(), DATA_ROOT, 'audio')\n",
    "\n",
    "def ytdlp_extract_audio(\n",
    "    url, \n",
    "    out_dir=AUDIO_OUTPUT, \n",
    "    filename=None, \n",
    "    ffmpeg_location='/opt/homebrew/bin/ffmpeg',\n",
    "    verbosity=1\n",
    "):\n",
    "    with tempfile.TemporaryDirectory() as tmpdir:\n",
    "        if verbosity >= 1:\n",
    "            print(\"Extracting audio from {}...\".format(url), end=' ')\n",
    "        subprocess.run(\n",
    "            [\n",
    "                \"yt-dlp\",\n",
    "                url,\n",
    "                \"-o\",\n",
    "                f\"{tmpdir}/%(upload_date)s_%(title)s.%(ext)s\",\n",
    "                \"--extract-audio\",\n",
    "                \"--audio-format\", \"mp3\",\n",
    "                \"--ffmpeg-location\", ffmpeg_location  \n",
    "            ],\n",
    "            stdout = subprocess.DEVNULL,\n",
    "            stderr = subprocess.DEVNULL\n",
    "        )\n",
    "        tmp_filename_mp3 = os.listdir(tmpdir)[0]\n",
    "        tmp_filename_wav = tmp_filename_mp3.replace('.mp3', '.wav')\n",
    "        if verbosity >= 1:\n",
    "            print(\"Converting .mp3 to .wav 16-bit.\")\n",
    "        subprocess.run(\n",
    "            [\n",
    "                ffmpeg_location,\n",
    "                '-i', os.path.join(tmpdir, tmp_filename_mp3),\n",
    "                '-ar', '16000',\n",
    "                '-ac', '1',\n",
    "                '-c:a', 'pcm_s16le',\n",
    "                os.path.join(tmpdir, tmp_filename_wav)\n",
    "            ],\n",
    "            stdout = subprocess.DEVNULL,\n",
    "            stderr = subprocess.DEVNULL\n",
    "        )\n",
    "        if not os.path.exists(out_dir):\n",
    "            os.makedirs(out_dir)\n",
    "        if filename is None:\n",
    "            audio_filename = os.path.join(out_dir, tmp_filename_wav)\n",
    "        else:\n",
    "            audio_filename = os.path.join(out_dir, tmp_filename_wav)\n",
    "        shutil.move(os.path.join(tmpdir, tmp_filename_wav), audio_filename)\n",
    "    return audio_filename"
   ]
  },
  {
   "cell_type": "code",
   "execution_count": 35,
   "metadata": {},
   "outputs": [
    {
     "name": "stdout",
     "output_type": "stream",
     "text": [
      "Extracting audio from https://youtu.be/lrebGkYy7pE?si=0lbIkizxWO8MefXk... Converting .mp3 to .wav 16-bit.\n",
      "Extracting audio from https://podcasts.apple.com/us/podcast/theories-of-everything-with-curt-jaimungal/id1521758802?i=1000654451317... Converting .mp3 to .wav 16-bit.\n",
      "Extracting audio from https://podcasts.apple.com/us/podcast/making-sense-with-sam-harris/id733163012?i=1000652525999... Converting .mp3 to .wav 16-bit.\n",
      "Extracting audio from https://youtube.com/shorts/fUgmUwnOwws?si=VcO0emCr0cAn1g_G... Converting .mp3 to .wav 16-bit.\n",
      "Extracting audio from https://youtube.com/shorts/1cHKhvJe2UY?si=ohHztvJqU46HYAn8... Converting .mp3 to .wav 16-bit.\n",
      "Extracting audio from https://youtu.be/xQJq9nVSa4E?si=eUfG19BIVn8NVOR3... Converting .mp3 to .wav 16-bit.\n",
      "Extracting audio from https://youtu.be/TkCo1vHgIQM?si=2KfcJXMrlv3nlFQv... Converting .mp3 to .wav 16-bit.\n",
      "Extracting audio from https://youtu.be/5xgbRxA_7DI?si=mZuRrjEcn3UYiY9e... Converting .mp3 to .wav 16-bit.\n",
      "Extracting audio from https://youtube.com/watch?v=czyJpgZxpWs&amp;si=YI6haof06izYiU0R... Converting .mp3 to .wav 16-bit.\n",
      "Extracting audio from https://podcasts.apple.com/us/podcast/making-sense-with-sam-harris/id733163012?i=1000641883236... Converting .mp3 to .wav 16-bit.\n",
      "Extracting audio from https://youtu.be/SCyLiLPrmIM?si=cXaw6hU24lEhu1Nf... Converting .mp3 to .wav 16-bit.\n",
      "Extracting audio from https://www.youtube.com/watch?v=w11mI67R95I... Converting .mp3 to .wav 16-bit.\n",
      "Extracting audio from https://youtube.com/shorts/iShvxvrW41g?si=i7rZEOgEr5U6SmT8... Converting .mp3 to .wav 16-bit.\n",
      "Extracting audio from https://youtube.com/shorts/7KzmampXPDU?si=bOfbhXbrjdsfWQ0X... Converting .mp3 to .wav 16-bit.\n",
      "Extracting audio from https://podcasts.apple.com/us/podcast/theories-of-everything-with-curt-jaimungal/id1521758802?i=1000638329661... Converting .mp3 to .wav 16-bit.\n",
      "Extracting audio from https://youtube.com/watch?v=JL4OoKJyNrc&amp;si=sxJqduIb96RSFA7N... Converting .mp3 to .wav 16-bit.\n",
      "Extracting audio from https://youtube.com/shorts/XX5go3E1iYI?si=64iBfLU1PuzXjCVl... Converting .mp3 to .wav 16-bit.\n",
      "Extracting audio from https://youtube.com/shorts/DSKKJVF060Y?si=KZcdwaW4th3ajd-m... Converting .mp3 to .wav 16-bit.\n",
      "Extracting audio from https://youtu.be/GaUoIBTGXzo?si=NCuLUqTifWQz2DBh... Converting .mp3 to .wav 16-bit.\n",
      "Extracting audio from https://youtu.be/I3f5l3IqmeU?si=s4QOn_tCstIqPoId... Converting .mp3 to .wav 16-bit.\n",
      "Extracting audio from https://youtu.be/-nn5pYczJM0?si=RSPxVT_DRsvZ33By... Converting .mp3 to .wav 16-bit.\n",
      "Extracting audio from https://youtu.be/KW4yBSV4U38?si=pBOTjWCKaUw2LNi3... Converting .mp3 to .wav 16-bit.\n",
      "Extracting audio from https://youtu.be/K5tcwIicICg?si=Bdhhh7NZWr0OS-Xt... Converting .mp3 to .wav 16-bit.\n",
      "Extracting audio from https://youtu.be/Nrenme_XixQ?si=iA1RWXqT0GT5ukyW... Converting .mp3 to .wav 16-bit.\n",
      "Extracting audio from https://podcasts.apple.com/us/podcast/lex-fridman-podcast/id1434243584?i=1000629016031... Converting .mp3 to .wav 16-bit.\n",
      "Extracting audio from https://www.youtube.com/shorts/5Ywe_PXGnN8... Converting .mp3 to .wav 16-bit.\n",
      "Extracting audio from https://www.youtube.com/watch?v=07uZhBeATx4... Converting .mp3 to .wav 16-bit.\n"
     ]
    }
   ],
   "source": [
    "# yt_row = df[df.platform=='youtube'].sample(1)\n",
    "# apple_pod_row = df[df.platform=='apple podcast'].sample(1)\n",
    "# file_path = ytdlp_extract_mp3(yt_row.url.values[0])\n",
    "\n",
    "rows = []\n",
    "for idx, row in df.iterrows():\n",
    "    if row.platform == 'youtube' or row.platform == 'apple podcast':\n",
    "        row['audio_path'] = ytdlp_extract_audio(row.url)\n",
    "    else:\n",
    "        row['audio_path'] = None\n",
    "    rows.append(row)"
   ]
  },
  {
   "cell_type": "code",
   "execution_count": 15,
   "metadata": {},
   "outputs": [],
   "source": [
    "audio_df = pd.DataFrame(rows)"
   ]
  },
  {
   "cell_type": "markdown",
   "metadata": {},
   "source": [
    "## Transcribing audio"
   ]
  },
  {
   "cell_type": "code",
   "execution_count": 76,
   "metadata": {},
   "outputs": [],
   "source": [
    "TRANSCRIPTION_OUTPUT = os.path.join(os.getcwd(), DATA_ROOT, 'processed')\n",
    "MODEL_BIN = 'models/ggml-base.en.bin' # compile this before running\n",
    "\n",
    "def transcribe(\n",
    "    wav_filepath_full, \n",
    "    path_to_whisper_cpp = os.path.join(os.getcwd(), 'whisper.cpp'),\n",
    "    out_dir = TRANSCRIPTION_OUTPUT\n",
    "):\n",
    "    print(f'Transcribing {wav_filepath_full}...')\n",
    "    subprocess.run(\n",
    "        [\n",
    "            os.path.join(path_to_whisper_cpp, 'main'),\n",
    "            \"-m\", os.path.join(path_to_whisper_cpp, MODEL_BIN),\n",
    "            \"-f\", wav_filepath_full,\n",
    "            \"--output-txt\"\n",
    "        ],\n",
    "        stdout = subprocess.DEVNULL,\n",
    "        stderr = subprocess.DEVNULL\n",
    "    )\n",
    "    tmp_txt_filepath_full = wav_filepath_full.replace('.wav', '.wav.txt')\n",
    "    wav_file_name = wav_filepath_full.split('/')[-1]\n",
    "    txt_file_name = wav_file_name.replace('.wav', '.txt')\n",
    "    if not os.path.exists(out_dir):\n",
    "        os.makedirs(out_dir)\n",
    "    out_txt_filepath_full = os.path.join(out_dir, txt_file_name)\n",
    "    shutil.move(tmp_txt_filepath_full, out_txt_filepath_full)\n",
    "    return out_txt_filepath_full"
   ]
  },
  {
   "cell_type": "code",
   "execution_count": 64,
   "metadata": {},
   "outputs": [
    {
     "data": {
      "text/plain": [
       "'/Users/eddie/Dev/Alignment/public-calls-bot/data/audio/20240305_Why Jeff Bezos Prefers Group Inventions.wav'"
      ]
     },
     "execution_count": 64,
     "metadata": {},
     "output_type": "execute_result"
    }
   ],
   "source": [
    "audio_row = audio_df[~audio_df.audio_path.isna()].sample(1)\n",
    "wav_file = audio_row.audio_path.values[0]\n",
    "wav_file"
   ]
  },
  {
   "cell_type": "code",
   "execution_count": 84,
   "metadata": {},
   "outputs": [],
   "source": [
    "rows = []\n",
    "for idx, row in audio_df.iterrows():\n",
    "    if row.audio_path is not None:\n",
    "        txt_path = row.audio_path.replace('data/audio', 'data/processed').replace('.wav', '.txt')\n",
    "        with open(txt_path, 'r') as f:\n",
    "            transcription = f.read().strip()\n",
    "    else:\n",
    "        txt_path = None\n",
    "        transcription = None\n",
    "    row['txt_path'] = txt_path\n",
    "    row['transcription'] = transcription\n",
    "    rows.append(row)"
   ]
  },
  {
   "cell_type": "code",
   "execution_count": 78,
   "metadata": {},
   "outputs": [
    {
     "name": "stdout",
     "output_type": "stream",
     "text": [
      "Transcribing /Users/eddie/Dev/Alignment/public-calls-bot/data/audio/20240430_These 12 Lawmakers Agree： It's Time to Leave Congress ｜ NYT Opinion.wav...\n",
      "Transcribing /Users/eddie/Dev/Alignment/public-calls-bot/data/audio/20240503_Consciousness, Free Will, The Subconscious, Quantum Mechanics ｜ George Musser.wav...\n",
      "Transcribing /Users/eddie/Dev/Alignment/public-calls-bot/data/audio/20240415_#363 — Knowledge Work.wav...\n",
      "Transcribing /Users/eddie/Dev/Alignment/public-calls-bot/data/audio/20240305_Why Jeff Bezos Prefers Group Inventions.wav...\n",
      "Transcribing /Users/eddie/Dev/Alignment/public-calls-bot/data/audio/20240118_Jeff Bezos on Why Companies Fail to Make the Right Decisions.wav...\n",
      "Transcribing /Users/eddie/Dev/Alignment/public-calls-bot/data/audio/20240211_Race & Reason： A Conversation with Coleman Hughes (Episode #353).wav...\n",
      "Transcribing /Users/eddie/Dev/Alignment/public-calls-bot/data/audio/20240130_Sam Harris： Debating conspiracy theorists, wokeness, Trump, collapse of Intellectual Dark Web.wav...\n",
      "Transcribing /Users/eddie/Dev/Alignment/public-calls-bot/data/audio/20230803_ACADEMIA IS BROKEN! The publishing scandal happening right now.wav...\n",
      "Transcribing /Users/eddie/Dev/Alignment/public-calls-bot/data/audio/20240123_Can the media ever be impartial？ ｜ Philip Collins, Matthew Goodwin, Sophie Scott-Brown.wav...\n",
      "Transcribing /Users/eddie/Dev/Alignment/public-calls-bot/data/audio/20240116_#349 — Generosity, Cynicism, and the Future of Doing Good.wav...\n",
      "Transcribing /Users/eddie/Dev/Alignment/public-calls-bot/data/audio/20240106_Anger in America and faith in our democracy ｜ 60 Minutes Full Episodes.wav...\n",
      "Transcribing /Users/eddie/Dev/Alignment/public-calls-bot/data/audio/20200601_Roger Penrose explains Godel's incompleteness theorem in 3 minutes.wav...\n",
      "Transcribing /Users/eddie/Dev/Alignment/public-calls-bot/data/audio/20240102_Jeff Bezos on Why Amazon Meetings Don't Use PowerPoint.wav...\n",
      "Transcribing /Users/eddie/Dev/Alignment/public-calls-bot/data/audio/20231227_What’s the best piece of advice you’ve ever received？.wav...\n",
      "Transcribing /Users/eddie/Dev/Alignment/public-calls-bot/data/audio/20231212_Joscha Bach Λ Karl Friston： Ai, Death, Self, God, Consciousness.wav...\n",
      "Transcribing /Users/eddie/Dev/Alignment/public-calls-bot/data/audio/20231215_Jeff Bezos： Truth is uncomfortable ｜ Lex Fridman Podcast Clips.wav...\n",
      "Transcribing /Users/eddie/Dev/Alignment/public-calls-bot/data/audio/20221031_'Twitter is Not a Town Square' 🐦 #shorts.wav...\n",
      "Transcribing /Users/eddie/Dev/Alignment/public-calls-bot/data/audio/20230828_Science Is Ignorance ｜ YNH Short.wav...\n",
      "Transcribing /Users/eddie/Dev/Alignment/public-calls-bot/data/audio/20231121_How productive arguments can bring us closer together ｜ Bo Seo, Esther Perel, and Dan Shapiro.wav...\n",
      "Transcribing /Users/eddie/Dev/Alignment/public-calls-bot/data/audio/20231120_Science Today - @DAIHeidelberg_Official.wav...\n",
      "Transcribing /Users/eddie/Dev/Alignment/public-calls-bot/data/audio/20231117_The return of wars, explained ｜ Yuval Noah Harari.wav...\n",
      "Transcribing /Users/eddie/Dev/Alignment/public-calls-bot/data/audio/20231118_Is Science Dying？.wav...\n",
      "Transcribing /Users/eddie/Dev/Alignment/public-calls-bot/data/audio/20231109_Political scientist Ian Bremmer on the Israeli-Palestinian conflict.wav...\n",
      "Transcribing /Users/eddie/Dev/Alignment/public-calls-bot/data/audio/20231020_Have a controversial idea？ Good. Here’s why you should share it. ｜ Peter Singer.wav...\n",
      "Transcribing /Users/eddie/Dev/Alignment/public-calls-bot/data/audio/20230925_#397 – Greg Lukianoff： Cancel Culture, Deplatforming, Censorship & Free Speech.wav...\n",
      "Transcribing /Users/eddie/Dev/Alignment/public-calls-bot/data/audio/20230608_An evolutionary approach for Twitter - @lexfridman.wav...\n",
      "Transcribing /Users/eddie/Dev/Alignment/public-calls-bot/data/audio/20210707_Joscha Bach on how the US media and social media giants trying to prevent the lateral spread of info.wav...\n"
     ]
    }
   ],
   "source": [
    "# txt_file = transcribe(wav_file)\n",
    "# with open(txt_file, 'r') as f:\n",
    "#     transcription = f.read().strip()\n",
    "# print(transcription)\n",
    "\n",
    "rows = []\n",
    "for idx, row in audio_df.iterrows():\n",
    "    if row.audio_path is not None:\n",
    "        try:\n",
    "            txt_path = transcribe(row.audio_path)\n",
    "            with open(txt_path, 'r') as f:\n",
    "                transcription = f.read().strip()\n",
    "        except:\n",
    "            print(f\"Error transcribing {row.audio_path}\")\n",
    "            break\n",
    "    else:\n",
    "        txt_path = None\n",
    "        transcription = None\n",
    "    row['txt_path'] = txt_path\n",
    "    row['transcription'] = transcription\n",
    "    rows.append(row)"
   ]
  },
  {
   "cell_type": "code",
   "execution_count": 85,
   "metadata": {},
   "outputs": [
    {
     "data": {
      "text/html": [
       "<div>\n",
       "<style scoped>\n",
       "    .dataframe tbody tr th:only-of-type {\n",
       "        vertical-align: middle;\n",
       "    }\n",
       "\n",
       "    .dataframe tbody tr th {\n",
       "        vertical-align: top;\n",
       "    }\n",
       "\n",
       "    .dataframe thead th {\n",
       "        text-align: right;\n",
       "    }\n",
       "</style>\n",
       "<table border=\"1\" class=\"dataframe\">\n",
       "  <thead>\n",
       "    <tr style=\"text-align: right;\">\n",
       "      <th></th>\n",
       "      <th>user</th>\n",
       "      <th>type</th>\n",
       "      <th>ts</th>\n",
       "      <th>client_msg_id</th>\n",
       "      <th>text</th>\n",
       "      <th>team</th>\n",
       "      <th>attachments</th>\n",
       "      <th>blocks</th>\n",
       "      <th>url</th>\n",
       "      <th>platform</th>\n",
       "      <th>audio_path</th>\n",
       "      <th>txt_path</th>\n",
       "      <th>transcription</th>\n",
       "    </tr>\n",
       "  </thead>\n",
       "  <tbody>\n",
       "    <tr>\n",
       "      <th>0</th>\n",
       "      <td>U02F33WP5FX</td>\n",
       "      <td>message</td>\n",
       "      <td>1.716043e+09</td>\n",
       "      <td>CC964B6A-76C4-42CF-B796-460D256963FC</td>\n",
       "      <td>&lt;https://youtu.be/lrebGkYy7pE?si=0lbIkizxWO8Me...</td>\n",
       "      <td>T02FVNL7X6U</td>\n",
       "      <td>[{'from_url': 'https://youtu.be/lrebGkYy7pE?si...</td>\n",
       "      <td>[{'type': 'rich_text', 'block_id': 'Hy5ZJ', 'e...</td>\n",
       "      <td>https://youtu.be/lrebGkYy7pE?si=0lbIkizxWO8MefXk</td>\n",
       "      <td>youtube</td>\n",
       "      <td>/Users/eddie/Dev/Alignment/public-calls-bot/da...</td>\n",
       "      <td>/Users/eddie/Dev/Alignment/public-calls-bot/da...</td>\n",
       "      <td>[MUSIC]\\n &gt;&gt; And okay.\\n &gt;&gt; I knew you couldn'...</td>\n",
       "    </tr>\n",
       "    <tr>\n",
       "      <th>1</th>\n",
       "      <td>U02F33WP5FX</td>\n",
       "      <td>message</td>\n",
       "      <td>1.714913e+09</td>\n",
       "      <td>FCDF3A69-0A12-4B14-B4E8-364BE71BF14C</td>\n",
       "      <td>&lt;https://podcasts.apple.com/us/podcast/theorie...</td>\n",
       "      <td>T02FVNL7X6U</td>\n",
       "      <td>[{'image_url': 'https://is1-ssl.mzstatic.com/i...</td>\n",
       "      <td>[{'type': 'rich_text', 'block_id': '8jcbA', 'e...</td>\n",
       "      <td>https://podcasts.apple.com/us/podcast/theories...</td>\n",
       "      <td>apple podcast</td>\n",
       "      <td>/Users/eddie/Dev/Alignment/public-calls-bot/da...</td>\n",
       "      <td>/Users/eddie/Dev/Alignment/public-calls-bot/da...</td>\n",
       "      <td>This podcast is sponsored by Monarch Money.\\n ...</td>\n",
       "    </tr>\n",
       "    <tr>\n",
       "      <th>2</th>\n",
       "      <td>U02F33WP5FX</td>\n",
       "      <td>message</td>\n",
       "      <td>1.713236e+09</td>\n",
       "      <td>NaN</td>\n",
       "      <td>One of the best “public calls for alignment” I...</td>\n",
       "      <td>T02FVNL7X6U</td>\n",
       "      <td>[{'from_url': 'https://podcasts.apple.com/us/p...</td>\n",
       "      <td>[{'type': 'rich_text', 'block_id': '/pN', 'ele...</td>\n",
       "      <td>https://podcasts.apple.com/us/podcast/making-s...</td>\n",
       "      <td>apple podcast</td>\n",
       "      <td>/Users/eddie/Dev/Alignment/public-calls-bot/da...</td>\n",
       "      <td>/Users/eddie/Dev/Alignment/public-calls-bot/da...</td>\n",
       "      <td>[MUSIC]\\n Welcome to the Making Sense Podcast....</td>\n",
       "    </tr>\n",
       "  </tbody>\n",
       "</table>\n",
       "</div>"
      ],
      "text/plain": [
       "          user     type            ts                         client_msg_id  \\\n",
       "0  U02F33WP5FX  message  1.716043e+09  CC964B6A-76C4-42CF-B796-460D256963FC   \n",
       "1  U02F33WP5FX  message  1.714913e+09  FCDF3A69-0A12-4B14-B4E8-364BE71BF14C   \n",
       "2  U02F33WP5FX  message  1.713236e+09                                   NaN   \n",
       "\n",
       "                                                text         team  \\\n",
       "0  <https://youtu.be/lrebGkYy7pE?si=0lbIkizxWO8Me...  T02FVNL7X6U   \n",
       "1  <https://podcasts.apple.com/us/podcast/theorie...  T02FVNL7X6U   \n",
       "2  One of the best “public calls for alignment” I...  T02FVNL7X6U   \n",
       "\n",
       "                                         attachments  \\\n",
       "0  [{'from_url': 'https://youtu.be/lrebGkYy7pE?si...   \n",
       "1  [{'image_url': 'https://is1-ssl.mzstatic.com/i...   \n",
       "2  [{'from_url': 'https://podcasts.apple.com/us/p...   \n",
       "\n",
       "                                              blocks  \\\n",
       "0  [{'type': 'rich_text', 'block_id': 'Hy5ZJ', 'e...   \n",
       "1  [{'type': 'rich_text', 'block_id': '8jcbA', 'e...   \n",
       "2  [{'type': 'rich_text', 'block_id': '/pN', 'ele...   \n",
       "\n",
       "                                                 url       platform  \\\n",
       "0   https://youtu.be/lrebGkYy7pE?si=0lbIkizxWO8MefXk        youtube   \n",
       "1  https://podcasts.apple.com/us/podcast/theories...  apple podcast   \n",
       "2  https://podcasts.apple.com/us/podcast/making-s...  apple podcast   \n",
       "\n",
       "                                          audio_path  \\\n",
       "0  /Users/eddie/Dev/Alignment/public-calls-bot/da...   \n",
       "1  /Users/eddie/Dev/Alignment/public-calls-bot/da...   \n",
       "2  /Users/eddie/Dev/Alignment/public-calls-bot/da...   \n",
       "\n",
       "                                            txt_path  \\\n",
       "0  /Users/eddie/Dev/Alignment/public-calls-bot/da...   \n",
       "1  /Users/eddie/Dev/Alignment/public-calls-bot/da...   \n",
       "2  /Users/eddie/Dev/Alignment/public-calls-bot/da...   \n",
       "\n",
       "                                       transcription  \n",
       "0  [MUSIC]\\n >> And okay.\\n >> I knew you couldn'...  \n",
       "1  This podcast is sponsored by Monarch Money.\\n ...  \n",
       "2  [MUSIC]\\n Welcome to the Making Sense Podcast....  "
      ]
     },
     "execution_count": 85,
     "metadata": {},
     "output_type": "execute_result"
    }
   ],
   "source": [
    "transcription_df = pd.DataFrame(rows)\n",
    "transcription_df.head(3)"
   ]
  },
  {
   "cell_type": "code",
   "execution_count": 87,
   "metadata": {},
   "outputs": [],
   "source": [
    "transcription_df.to_csv('with_transcriptions.csv', index=False)"
   ]
  },
  {
   "cell_type": "markdown",
   "metadata": {},
   "source": [
    "## Scrape news articles\n",
    "\n",
    "Ideally, we should avoid linking to articles that are not on the public web. If we do we can manually \"scrape\" them."
   ]
  },
  {
   "cell_type": "code",
   "execution_count": 132,
   "metadata": {},
   "outputs": [
    {
     "data": {
      "text/plain": [
       "9    https://apple.news/ArrrFBhCqSfGrwDkGluirWg\n",
       "Name: url, dtype: object"
      ]
     },
     "execution_count": 132,
     "metadata": {},
     "output_type": "execute_result"
    }
   ],
   "source": [
    "row = df[df.platform == 'apple news'].sample(1)\n",
    "row.url"
   ]
  },
  {
   "cell_type": "code",
   "execution_count": 133,
   "metadata": {},
   "outputs": [],
   "source": [
    "uuid = 'ArrrFBhCqSfGrwDkGluirWg'"
   ]
  },
  {
   "cell_type": "code",
   "execution_count": 134,
   "metadata": {},
   "outputs": [],
   "source": [
    "res = requests.get(f'https://news-api.apple.com/articles/{uuid}')"
   ]
  },
  {
   "cell_type": "code",
   "execution_count": 135,
   "metadata": {},
   "outputs": [
    {
     "data": {
      "text/plain": [
       "'Unauthorized'"
      ]
     },
     "execution_count": 135,
     "metadata": {},
     "output_type": "execute_result"
    }
   ],
   "source": [
    "res.reason # :("
   ]
  },
  {
   "cell_type": "markdown",
   "metadata": {},
   "source": [
    "[Here](https://www.washingtonpost.com/technology/2024/01/22/ai-deepfake-elections-politicians/) is the link to the WSJ article."
   ]
  },
  {
   "cell_type": "code",
   "execution_count": 136,
   "metadata": {},
   "outputs": [],
   "source": [
    "og_url = 'https://www.washingtonpost.com/technology/2024/01/22/ai-deepfake-elections-politicians/'\n",
    "res = requests.get(og_url)\n",
    "soup = BeautifulSoup(res.content, 'html.parser')"
   ]
  },
  {
   "cell_type": "code",
   "execution_count": 137,
   "metadata": {},
   "outputs": [
    {
     "data": {
      "text/plain": [
       "'Politicians around the world are blaming AI to swat away allegations - The Washington Post'"
      ]
     },
     "execution_count": 137,
     "metadata": {},
     "output_type": "execute_result"
    }
   ],
   "source": [
    "title = soup.title.text\n",
    "title"
   ]
  },
  {
   "cell_type": "code",
   "execution_count": 138,
   "metadata": {},
   "outputs": [
    {
     "data": {
      "text/plain": [
       "['Pranshu Verma', 'Gerrit De Vynck']"
      ]
     },
     "execution_count": 138,
     "metadata": {},
     "output_type": "execute_result"
    }
   ],
   "source": [
    "# specific to this article's in WSJ HTML\n",
    "attrs = {\n",
    "    'class': 'wpds-c-cNdzuP wpds-c-cNdzuP-ejzZdU-isLink-true',\n",
    "    'data-qa': 'author-name',\n",
    "    'rel': 'author'\n",
    "}\n",
    "a_tags = soup.find_all('a', attrs=attrs)\n",
    "authors = [t.text for t in a_tags]\n",
    "authors"
   ]
  },
  {
   "cell_type": "code",
   "execution_count": 139,
   "metadata": {},
   "outputs": [
    {
     "data": {
      "text/html": [
       "Experts in artificial intelligence have long warned that AI-generated content could muddy the waters of perceived reality. Weeks into a pivotal election year, AI confusion is on the rise.<br><br>Politicians around the globe have been swatting away potentially damning pieces of evidence — grainy video footage of hotel trysts, voice recordings criticizing political opponents — by dismissing them as AI-generated fakes. At the same time, AI deepfakes are being used to spread misinformation.<br><br>On Monday, the New Hampshire Justice Department <a href=\"https://www.doj.nh.gov/news/2024/20240122-voter-robocall.html\" target=_blank>said it was investigating</a> robocalls featuring what appeared to be an AI-generated voice that sounded like <a href=\"https://www.washingtonpost.com/elections/candidates/joe-biden-2024/\" target=\"_blank\" class=\"contextual_link\">President Biden</a> telling voters to skip the Tuesday primary — the first notable use of AI for voter suppression this campaign cycle.<br><br>Last month, former president <a href=\"https://www.washingtonpost.com/donald-trump/\" target=\"_blank\" class=\"contextual_link\">Donald Trump</a> dismissed <a href=\"https://lincolnproject.us/feeble/\" target=_blank>an ad</a> on Fox News featuring video of his well-documented public gaffes — including his struggle to pronounce the word “anonymous” in Montana and his visit to the California town of <a href=\"https://www.youtube.com/watch?v=_HS1cNm-JbQ\" target=_blank>“Pleasure,”</a> a.k.a. Paradise, both in 2018 — claiming the footage was generated by AI.<br><br>“The perverts and losers at the failed and once disbanded Lincoln Project, and others, are using A.I. (Artificial Intelligence) in their Fake television commercials in order to make me look as bad and pathetic as Crooked Joe Biden, not an easy thing to do,” Trump wrote on Truth Social. “FoxNews shouldn’t run these ads.”<br><br>The Lincoln Project, a political action committee formed by moderate Republicans to oppose Trump, swiftly denied the claim; the ad featured incidents during Trump’s presidency that were widely covered at the time and witnessed in real life by many independent observers.<br><br>Still, AI creates a “liar’s dividend,” said Hany Farid, a professor at the University of California at Berkeley who studies digital propaganda and misinformation. “When you actually do catch a police officer or politician saying something awful, they have plausible deniability” in the age of AI.<br><br>AI “destabilizes the concept of truth itself,” added Libby Lange, an analyst at the misinformation tracking organization Graphika. “If everything could be fake, and if everyone’s claiming everything is fake or manipulated in some way, there’s really no sense of ground truth. Politically motivated actors, especially, can take whatever interpretation they choose.”<br><br>Trump is not alone in seizing this advantage. Around the world, AI is becoming a common scapegoat for politicians trying to fend off damaging allegations.<br><br>Late last year, a grainy video surfaced of a ruling-party Taiwanese politician entering a hotel with a woman, indicating he was having an affair. Commentators and other politicians quickly came to his defense, saying the footage was AI-generated — though it remains unclear whether it actually was.<br><br>In April, a 26-second voice recording was leaked in which a politician in the southern Indian state of Tamil Nadu appeared to accuse his own party of illegally amassing $3.6 billion, according to reporting by Rest of World. The politician denied the recording’s veracity, calling it “machine generated”; experts have said they are unsure whether the audio is real or fake.<br><br>AI companies have generally said their tools shouldn’t be used in political campaigns now, but enforcement has been spotty. On Friday, OpenAI banned a developer from using its tools after the developer built a bot mimicking long-shot Democratic presidential candidate Dean Phillips. Phillips’s campaign had supported the bot, but after <a href=\"https://www.washingtonpost.com/technology/2024/01/20/openai-dean-phillips-ban-chatgpt/\" target=\"_blank\">The Washington Post reported</a> on it, OpenAI deemed that it broke rules against use of its tech for campaigns.<br><br>AI-related confusion is also swirling beyond politics. Last week, social media users began circulating an audio clip they claimed was a Baltimore County, Md., school principal on a racist tirade against Jewish people and Black students. The union that represents the principal has said the audio is AI-generated.<br><br>Several signs do point to that conclusion, including the uniform cadence of the speech and indications of splicing, said Farid, who analyzed the audio. But without knowing where it came from or in what context it was recorded, he said, it’s impossible to say for sure.<br><br>On social media, commenters overwhelmingly seem to believe the audio is real, and the school district says it has launched an investigation. A request for comment to the principal through his union was not returned.<br><br>These claims hold weight because AI deepfakes are more common now and better at replicating a person’s voice and appearance. Deepfakes regularly go viral on X, Facebook and other social platforms. Meanwhile, the tools and methods to identify an AI-created piece of media are not keeping up with rapid advances in AI’s ability to generate such content.<br><br>Actual fake images of Trump have <a href=\"https://www.washingtonpost.com/politics/2023/03/22/trump-arrest-deepfakes/\" target=_blank>gone viral multiple times</a>. Early this month, actor Mark Ruffalo posted AI images of Trump with teenage girls, claiming the images showed the former president on a private plane owned by convicted sex offender Jeffrey Epstein. Ruffalo later apologized.<br><br>Trump, who has spent weeks railing against AI on Truth Social, posted about the incident, saying, “This is A.I., and it is very dangerous for our Country!”<br><br>Rising concern over AI’s impact on politics and the world economy was a <a href=\"https://www.washingtonpost.com/technology/2024/01/18/davos-ai-world-economic-forum/\" target=_blank>major theme</a> at the conference of world leaders and CEOs in Davos, Switzerland, last week. In her remarks opening the conference, Swiss President Viola Amherd called AI-generated propaganda and lies “a real threat” to world stability, “especially today when the rapid development of artificial intelligence contributes to the increasing credibility of such fake news.”<br><br>Tech and social media companies say they are looking into <a href=\"https://www.washingtonpost.com/technology/2023/08/29/google-wants-watermark-ai-generated-images-stop-deepfakes/\" target=_blank>creating systems to automatically check</a> and moderate AI-generated content purporting to be real, but have yet to do so. Meanwhile, only experts possess the tech and expertise to analyze a piece of media and determine whether it’s real or fake.<br><br>That leaves too few people capable of truth-squadding content that can now be generated with easy-to-use AI tools available to almost anyone.<br><br>“You don’t have to be a computer scientist. You don’t have to be able to code,” Farid said. “There’s no barrier to entry anymore.”<br><br>Aviv Ovadya, an expert on AI’s impact on democracy and an affiliate at Harvard University’s Berkman Klein Center, said the general public is far more aware of AI deepfakes now compared with five years ago. As politicians see others evade criticism by claiming evidence released against them is AI, more people will make that claim.<br><br>“There’s a contagion effect,” he said, noting a similar rise in politicians falsely calling an election rigged.<br><br>Ovadya said technology companies have the tools to regulate the problem: They could watermark audio to create a digital fingerprint or <a href=\"https://c2pa.org/\" target=_blank>join a coalition</a> meant to prevent the spreading of misleading information online by developing technical standards that establish the origins of media content. Most importantly, he said, they could tweak their algorithms so they don’t promote sensational but potentially false content.<br><br>So far, he said, tech companies have mostly failed to take action to safeguard the public’s perception of reality.<br><br>“As long as the incentives continue to be engagement-driven sensationalism, and really conflict,” he said, “those are the kinds of content — whether deepfake or not — that’s going to be surfaced.”<br><br><i>Drew Harwell and Nitasha Tiku contributed to this report.</i>"
      ],
      "text/plain": [
       "<IPython.core.display.HTML object>"
      ]
     },
     "metadata": {},
     "output_type": "display_data"
    }
   ],
   "source": [
    "pattern = r'\\{\"_id\":\"[A-Z0-9]+\",\"additional_properties\":\\{\\},\"content\":\".*?\",\"type\":\"text\",\"originalIdx\":\\d+\\}'\n",
    "json_blocks = re.findall(pattern, str(soup), re.DOTALL)\n",
    "content = \"<br><br>\".join([\n",
    "    json.loads(b)['content']\n",
    "    for b in json_blocks\n",
    "])\n",
    "display(HTML(content))"
   ]
  },
  {
   "cell_type": "code",
   "execution_count": 144,
   "metadata": {},
   "outputs": [],
   "source": [
    "txt_path = os.path.join(DATA_ROOT, 'processed', f'{title}.txt')\n",
    "transcription = content\n",
    "row['audio_path'] = None\n",
    "row['txt_path'] = txt_path\n",
    "row['transcription'] = transcription\n",
    "with open(txt_path, 'w') as f:\n",
    "    f.write(transcription)"
   ]
  },
  {
   "cell_type": "code",
   "execution_count": 142,
   "metadata": {},
   "outputs": [],
   "source": [
    "transcription_df.iloc[row.index, :] = row.values"
   ]
  },
  {
   "cell_type": "code",
   "execution_count": 143,
   "metadata": {},
   "outputs": [
    {
     "data": {
      "text/html": [
       "<div>\n",
       "<style scoped>\n",
       "    .dataframe tbody tr th:only-of-type {\n",
       "        vertical-align: middle;\n",
       "    }\n",
       "\n",
       "    .dataframe tbody tr th {\n",
       "        vertical-align: top;\n",
       "    }\n",
       "\n",
       "    .dataframe thead th {\n",
       "        text-align: right;\n",
       "    }\n",
       "</style>\n",
       "<table border=\"1\" class=\"dataframe\">\n",
       "  <thead>\n",
       "    <tr style=\"text-align: right;\">\n",
       "      <th></th>\n",
       "      <th>user</th>\n",
       "      <th>type</th>\n",
       "      <th>ts</th>\n",
       "      <th>client_msg_id</th>\n",
       "      <th>text</th>\n",
       "      <th>team</th>\n",
       "      <th>attachments</th>\n",
       "      <th>blocks</th>\n",
       "      <th>url</th>\n",
       "      <th>platform</th>\n",
       "      <th>audio_path</th>\n",
       "      <th>txt_path</th>\n",
       "      <th>transcription</th>\n",
       "    </tr>\n",
       "  </thead>\n",
       "  <tbody>\n",
       "    <tr>\n",
       "      <th>9</th>\n",
       "      <td>U02F33WP5FX</td>\n",
       "      <td>message</td>\n",
       "      <td>1.705973e+09</td>\n",
       "      <td>NaN</td>\n",
       "      <td>\\n&lt;https://apple.news/ArrrFBhCqSfGrwDkGluirWg&gt;</td>\n",
       "      <td>T02FVNL7X6U</td>\n",
       "      <td>[{'from_url': 'https://apple.news/ArrrFBhCqSfG...</td>\n",
       "      <td>[{'type': 'rich_text', 'block_id': 'MFhK', 'el...</td>\n",
       "      <td>https://apple.news/ArrrFBhCqSfGrwDkGluirWg</td>\n",
       "      <td>apple news</td>\n",
       "      <td>None</td>\n",
       "      <td>/Users/eddie/Dev/Alignment/public-calls-bot/da...</td>\n",
       "      <td>Experts in artificial intelligence have long w...</td>\n",
       "    </tr>\n",
       "  </tbody>\n",
       "</table>\n",
       "</div>"
      ],
      "text/plain": [
       "          user     type            ts client_msg_id  \\\n",
       "9  U02F33WP5FX  message  1.705973e+09           NaN   \n",
       "\n",
       "                                             text         team  \\\n",
       "9  \\n<https://apple.news/ArrrFBhCqSfGrwDkGluirWg>  T02FVNL7X6U   \n",
       "\n",
       "                                         attachments  \\\n",
       "9  [{'from_url': 'https://apple.news/ArrrFBhCqSfG...   \n",
       "\n",
       "                                              blocks  \\\n",
       "9  [{'type': 'rich_text', 'block_id': 'MFhK', 'el...   \n",
       "\n",
       "                                          url    platform audio_path  \\\n",
       "9  https://apple.news/ArrrFBhCqSfGrwDkGluirWg  apple news       None   \n",
       "\n",
       "                                            txt_path  \\\n",
       "9  /Users/eddie/Dev/Alignment/public-calls-bot/da...   \n",
       "\n",
       "                                       transcription  \n",
       "9  Experts in artificial intelligence have long w...  "
      ]
     },
     "execution_count": 143,
     "metadata": {},
     "output_type": "execute_result"
    }
   ],
   "source": [
    "transcription_df.iloc[row.index]"
   ]
  },
  {
   "cell_type": "code",
   "execution_count": 145,
   "metadata": {},
   "outputs": [],
   "source": [
    "OUT_DF = 'public_alignment_text.csv'\n",
    "transcription_df.to_csv(OUT_DF, index=False)"
   ]
  }
 ],
 "metadata": {
  "kernelspec": {
   "display_name": "Python 3 (ipykernel)",
   "language": "python",
   "name": "python3"
  },
  "language_info": {
   "codemirror_mode": {
    "name": "ipython",
    "version": 3
   },
   "file_extension": ".py",
   "mimetype": "text/x-python",
   "name": "python",
   "nbconvert_exporter": "python",
   "pygments_lexer": "ipython3",
   "version": "3.10.14"
  }
 },
 "nbformat": 4,
 "nbformat_minor": 4
}
